{
 "cells": [
  {
   "cell_type": "markdown",
   "metadata": {},
   "source": [
    "# Lesson Title\n",
    "\n",
    "## Overview\n",
    "Brief description of the lesson\n",
    "\n",
    "## Prerequisites\n",
    "- List prerequisites here\n",
    "\n",
    "## Learning Objectives\n",
    "- Objective 1\n",
    "- Objective 2"
   ]
  },
  {
   "cell_type": "code",
   "execution_count": null,
   "metadata": {},
   "source": [
    "# Setup code here\n",
    "import sys\n",
    "sys.path.append('../..')\n",
    "\n",
    "from src.core.visualization.graph import GraphVisualizer"
   ]
  }
 ],
 "metadata": {
  "kernelspec": {
   "display_name": "Python 3",
   "language": "python",
   "name": "python3"
  }
 },
 "nbformat": 4,
 "nbformat_minor": 4
}
