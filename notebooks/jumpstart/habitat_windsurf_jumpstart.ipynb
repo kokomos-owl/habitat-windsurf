{
 "cells": [
  {
   "cell_type": "markdown",
   "metadata": {},
   "source": [
    "# Habitat Windsurf UI Course: Jumpstart Guide\n",
    "\n",
    "Welcome to the Habitat Windsurf UI Course! This notebook will guide you through understanding and extending the agentic workshop builder, teaching core concepts along the way.\n",
    "\n",
    "## Learning Objectives\n",
    "1. Understand agentic development principles\n",
    "2. Learn about modular code organization\n",
    "3. Explore visualization component architecture\n",
    "4. Practice test-driven development"
   ]
  },
  {
   "cell_type": "markdown",
   "metadata": {},
   "source": [
    "## Module 1: Understanding the Workshop Builder\n",
    "\n",
    "Let's start by examining our workshop builder's structure and functionality."
   ]
  },
  {
   "cell_type": "code",
   "execution_count": null,
   "metadata": {},
   "source": [
    "import os\n",
    "import sys\n",
    "from pathlib import Path\n",
    "\n",
    "# Add repository root to path\n",
    "repo_root = Path().absolute().parent.parent\n",
    "sys.path.append(str(repo_root))\n",
    "\n",
    "from scripts.agentic.workshop_builder import WorkshopBuilder"
   ]
  },
  {
   "cell_type": "markdown",
   "metadata": {},
   "source": [
    "### 1.1 Core Builder Components\n",
    "\n",
    "The workshop builder is organized into modular components:"
   ]
  },
  {
   "cell_type": "code",
   "execution_count": null,
   "metadata": {},
   "source": [
    "# Create builder instance\n",
    "builder = WorkshopBuilder(repo_root)\n",
    "\n",
    "# Examine builder structure\n",
    "print(\"Builder Components:\")\n",
    "print(f\"\\nBase Directory: {builder.base_dir}\")\n",
    "print(f\"Components Directory: {builder.components_dir}\")\n",
    "print(f\"Notebooks Directory: {builder.notebooks_dir}\")\n",
    "print(f\"Tests Directory: {builder.tests_dir}\")"
   ]
  },
  {
   "cell_type": "markdown",
   "metadata": {},
   "source": [
    "### Exercise 1: Extend the Builder\n",
    "\n",
    "Let's add a new component to track build progress:"
   ]
  },
  {
   "cell_type": "code",
   "execution_count": null,
   "metadata": {},
   "source": [
    "class BuildTracker:\n",
    "    \"\"\"Track build progress and status.\"\"\"\n",
    "    \n",
    "    def __init__(self):\n",
    "        self.steps_completed = []\n",
    "        self.current_step = None\n",
    "        \n",
    "    def start_step(self, name):\n",
    "        self.current_step = name\n",
    "        print(f\"\\n\ud83d\udee0 Starting: {name}\")\n",
    "        \n",
    "    def complete_step(self):\n",
    "        if self.current_step:\n",
    "            self.steps_completed.append(self.current_step)\n",
    "            print(f\"\u2705 Completed: {self.current_step}\")\n",
    "            self.current_step = None\n",
    "            \n",
    "    def show_progress(self):\n",
    "        print(f\"\\nCompleted {len(self.steps_completed)} steps:\")\n",
    "        for step in self.steps_completed:\n",
    "            print(f\"- {step}\")"
   ]
  },
  {
   "cell_type": "markdown",
   "metadata": {},
   "source": [
    "Now let's integrate it with our builder:"
   ]
  },
  {
   "cell_type": "code",
   "execution_count": null,
   "metadata": {},
   "source": [
    "# Extend WorkshopBuilder\n",
    "class TrackedWorkshopBuilder(WorkshopBuilder):\n",
    "    \"\"\"Workshop builder with progress tracking.\"\"\"\n",
    "    \n",
    "    def __init__(self, base_dir):\n",
    "        super().__init__(base_dir)\n",
    "        self.tracker = BuildTracker()\n",
    "        \n",
    "    def build_step(self, message: str, delay: float = 1.0):\n",
    "        \"\"\"Override build_step to use tracker.\"\"\"\n",
    "        self.tracker.start_step(message)\n",
    "        super().build_step(message, delay)\n",
    "        self.tracker.complete_step()\n",
    "        \n",
    "    def build_workshop(self):\n",
    "        \"\"\"Build workshop with progress tracking.\"\"\"\n",
    "        print(\"\ud83d\ude80 Building Habitat Windsurf UI Workshop\\n\")\n",
    "        super().build_workshop()\n",
    "        self.tracker.show_progress()"
   ]
  },
  {
   "cell_type": "markdown",
   "metadata": {},
   "source": [
    "### Try It Out\n",
    "\n",
    "Let's use our enhanced builder:"
   ]
  },
  {
   "cell_type": "code",
   "execution_count": null,
   "metadata": {},
   "source": [
    "# Create and run enhanced builder\n",
    "tracked_builder = TrackedWorkshopBuilder(repo_root)\n",
    "tracked_builder.build_workshop()"
   ]
  },
  {
   "cell_type": "markdown",
   "metadata": {},
   "source": [
    "## Module 2: Visualization Components\n",
    "\n",
    "Now that we understand the builder, let's examine the visualization components it creates."
   ]
  },
  {
   "cell_type": "code",
   "execution_count": null,
   "metadata": {},
   "source": [
    "from src.core.visualization.graph import GraphVisualizer\n",
    "from src.core.visualization.layout import LayoutEngine\n",
    "\n",
    "# Create components\n",
    "layout_engine = LayoutEngine()\n",
    "visualizer = GraphVisualizer(layout_engine)\n",
    "\n",
    "# Examine their structure\n",
    "print(\"Available Layout Types:\")\n",
    "for layout_type in layout_engine._layout_funcs.keys():\n",
    "    print(f\"- {layout_type}\")"
   ]
  },
  {
   "cell_type": "markdown",
   "metadata": {},
   "source": [
    "### Exercise 2: Add Custom Layout\n",
    "\n",
    "Let's add a new layout algorithm:"
   ]
  },
  {
   "cell_type": "code",
   "execution_count": null,
   "metadata": {},
   "source": [
    "import networkx as nx\n",
    "import random\n",
    "\n",
    "def spiral_layout(G, scale=1):\n",
    "    \"\"\"Position nodes in a spiral pattern.\"\"\"\n",
    "    pos = {}\n",
    "    nodes = list(G.nodes())\n",
    "    \n",
    "    for i, node in enumerate(nodes):\n",
    "        theta = i * 2 * 3.14159 / len(nodes)\n",
    "        r = (i + 1) * scale / len(nodes)\n",
    "        pos[node] = (r * np.cos(theta), r * np.sin(theta))\n",
    "        \n",
    "    return pos\n",
    "\n",
    "# Add to layout engine\n",
    "layout_engine._layout_funcs['spiral'] = spiral_layout"
   ]
  },
  {
   "cell_type": "markdown",
   "metadata": {},
   "source": [
    "### Try the New Layout"
   ]
  },
  {
   "cell_type": "code",
   "execution_count": null,
   "metadata": {},
   "source": [
    "# Create sample graph\n",
    "G = nx.Graph()\n",
    "G.add_edges_from([(1,2), (2,3), (3,4), (4,1)])\n",
    "\n",
    "# Visualize with new layout\n",
    "pos = layout_engine.calculate_layout(G, 'spiral')\n",
    "fig = visualizer.create_visualization(G)\n",
    "fig.show()"
   ]
  },
  {
   "cell_type": "markdown",
   "metadata": {},
   "source": [
    "## Next Steps\n",
    "\n",
    "1. Try creating your own layout algorithm\n",
    "2. Add validation to the builder\n",
    "3. Explore the test suite\n",
    "\n",
    "Continue to [Lesson 1: Basic Visualization](../lesson_01/basics.ipynb) for more advanced topics!"
   ]
  }
 ],
 "metadata": {
  "kernelspec": {
   "display_name": "Python 3",
   "language": "python",
   "name": "python3"
  }
 },
 "nbformat": 4,
 "nbformat_minor": 4
}
