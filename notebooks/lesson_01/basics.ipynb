{
 "cells": [
  {
   "cell_type": "markdown",
   "metadata": {},
   "source": [
    "# Getting Started with Graph Visualization\n",
    "\n",
    "This notebook introduces the basic concepts of graph visualization using the Windsurf UI components.\n",
    "\n",
    "## Learning Objectives\n",
    "1. Understand basic graph visualization concepts\n",
    "2. Create and visualize simple graphs\n",
    "3. Experiment with different layout algorithms\n",
    "4. Customize node and edge appearance"
   ]
  },
  {
   "cell_type": "code",
   "execution_count": null,
   "metadata": {},
   "source": [
    "# Setup\n",
    "import sys\n",
    "sys.path.append('../..')\n",
    "\n",
    "import networkx as nx\n",
    "from src.core.visualization.graph import GraphVisualizer\n",
    "from src.core.visualization.layout import LayoutEngine"
   ]
  },
  {
   "cell_type": "markdown",
   "metadata": {},
   "source": [
    "## Creating Our First Graph\n",
    "\n",
    "Let's create a simple graph with a few nodes and edges."
   ]
  },
  {
   "cell_type": "code",
   "execution_count": null,
   "metadata": {},
   "source": [
    "# Create sample graph\n",
    "G = nx.Graph()\n",
    "\n",
    "# Add nodes with labels\n",
    "nodes = [\n",
    "    (1, {\"label\": \"Concept A\"}),\n",
    "    (2, {\"label\": \"Concept B\"}),\n",
    "    (3, {\"label\": \"Concept C\"}),\n",
    "    (4, {\"label\": \"Concept D\"})\n",
    "]\n",
    "G.add_nodes_from(nodes)\n",
    "\n",
    "# Add edges\n",
    "edges = [(1, 2), (2, 3), (3, 4), (4, 1), (1, 3)]\n",
    "G.add_edges_from(edges)\n",
    "\n",
    "# Initialize components\n",
    "layout_engine = LayoutEngine()\n",
    "visualizer = GraphVisualizer(layout_engine)\n",
    "\n",
    "# Create visualization\n",
    "fig = visualizer.create_visualization(G)\n",
    "fig.show()"
   ]
  },
  {
   "cell_type": "markdown",
   "metadata": {},
   "source": [
    "## Experimenting with Layouts\n",
    "\n",
    "Try different layout algorithms to see how they affect the visualization."
   ]
  },
  {
   "cell_type": "code",
   "execution_count": null,
   "metadata": {},
   "source": [
    "# Try different layouts\n",
    "layouts = ['spring', 'circular', 'random', 'shell', 'spectral']\n",
    "\n",
    "for layout in layouts:\n",
    "    print(f\"\\n{layout.title()} Layout:\")\n",
    "    pos = layout_engine.calculate_layout(G, layout)\n",
    "    fig = visualizer.create_visualization(G)\n",
    "    fig.show()"
   ]
  }
 ],
 "metadata": {
  "kernelspec": {
   "display_name": "Python 3",
   "language": "python",
   "name": "python3"
  }
 },
 "nbformat": 4,
 "nbformat_minor": 4
}
